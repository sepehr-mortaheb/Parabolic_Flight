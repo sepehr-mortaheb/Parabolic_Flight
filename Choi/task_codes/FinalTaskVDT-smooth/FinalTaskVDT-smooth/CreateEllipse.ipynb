{
 "cells": [
  {
   "cell_type": "code",
   "execution_count": 98,
   "id": "21a61063-2806-4f52-ae5a-a5b8bc411ac9",
   "metadata": {},
   "outputs": [
    {
     "data": {
      "image/png": "[encoded data removed]",
      "text/plain": [
       "<Figure size 640x480 with 1 Axes>"
      ]
     },
     "metadata": {},
     "output_type": "display_data"
    }
   ],
   "source": [
    "import matplotlib.pyplot as plt\n",
    "import numpy as np\n",
    "from matplotlib.patches import Circle\n",
    "\n",
    "# Create a circle\n",
    "circle = plt.Circle((0, 0), 1, color='blue', fill=False)\n",
    "\n",
    "# Angle of the ellipse in radians\n",
    "angle_rad = np.deg2rad(90) #CHANGE ANGLE HERE\n",
    "\n",
    "# Major and minor axes lengths\n",
    "a = 0.8\n",
    "b = 0.1\n",
    "\n",
    "# Parametric equations for an ellipse\n",
    "theta = np.linspace(0, 2*np.pi, 100)\n",
    "x = a * np.cos(theta) * np.cos(angle_rad) - b * np.sin(theta) * np.sin(angle_rad)\n",
    "y = a * np.cos(theta) * np.sin(angle_rad) + b * np.sin(theta) * np.cos(angle_rad)\n",
    "\n",
    "# Plot the circle and ellipse\n",
    "fig, ax = plt.subplots()\n",
    "#ax.add_artist(circle)\n",
    "ax.plot(x, y, color='white')  # Setting color of the ellipse to white\n",
    "\n",
    "# Set plot limits\n",
    "ax.set_xlim(-5, 5)\n",
    "ax.set_ylim(-3, 3)\n",
    "\n",
    "# Set aspect ratio to be equal\n",
    "ax.set_aspect('equal')\n",
    "\n",
    "# Remove tick labels\n",
    "ax.set_xticks([])\n",
    "ax.set_yticks([])\n",
    "\n",
    "# Set background color to gray\n",
    "ax.set_facecolor('gray')\n",
    "\n",
    "# Add a solid circle in the left upper corner\n",
    "circle_corner = Circle((-3.5, 2), 0.2, color='white', fill=True)\n",
    "ax.add_patch(circle_corner)\n",
    "\n",
    "# Save the plot as an image\n",
    "plt.savefig('Ref_grey.png', dpi=300, bbox_inches='tight')  # Adjust dpi if needed #CHANGE NAME OF PNG\n",
    "\n",
    "# Show plot\n",
    "plt.show()\n"
   ]
  },
  {
   "cell_type": "code",
   "execution_count": null,
   "id": "f96f7566-bc24-404b-aa3c-7c443ee9e589",
   "metadata": {},
   "outputs": [],
   "source": []
  }
 ],
 "metadata": {
  "kernelspec": {
   "display_name": "Python 3 (ipykernel)",
   "language": "python",
   "name": "python3"
  },
  "language_info": {
   "codemirror_mode": {
    "name": "ipython",
    "version": 3
   },
   "file_extension": ".py",
   "mimetype": "text/x-python",
   "name": "python",
   "nbconvert_exporter": "python",
   "pygments_lexer": "ipython3",
   "version": "3.12.1"
  }
 },
 "nbformat": 4,
 "nbformat_minor": 5
}
