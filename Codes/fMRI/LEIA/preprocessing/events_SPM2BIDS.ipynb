{
 "cells": [
  {
   "cell_type": "code",
   "execution_count": 7,
   "id": "825be4e0",
   "metadata": {},
   "outputs": [],
   "source": [
    "import os.path as op\n",
    "import numpy as np\n",
    "import seaborn as sns\n",
    "import matplotlib.pylab as plt\n",
    "import pandas as pd \n",
    "from scipy.io import savemat, loadmat"
   ]
  },
  {
   "cell_type": "code",
   "execution_count": 14,
   "id": "6f1eeab6",
   "metadata": {},
   "outputs": [],
   "source": [
    "data_dir = '/Users/sepehrmortaheb/MyDrive/LEIA/Projects/Parabolic-Flight/Data/fMRI/Campaign1_Oct2024/main/log_files'\n",
    "subj = 'sub-C1B02_POST'"
   ]
  },
  {
   "cell_type": "code",
   "execution_count": 15,
   "id": "66177b66",
   "metadata": {},
   "outputs": [],
   "source": [
    "block_info = loadmat(op.join(data_dir, subj, f'{subj}_block_info.mat'))\n",
    "block_names = block_info['names'][0]\n",
    "block_onsets = block_info['onsets'][0]\n",
    "block_onsets = [list(np.squeeze(block_onsets[i])) for i in range(len(block_onsets))]\n",
    "block_durations = block_info['durations'][0]\n",
    "block_durations = [list(np.squeeze(block_durations[i])) for i in range(len(block_durations))]\n",
    "block_names = [list(block_names[i])*len(block_onsets[i]) for i in range(len(block_names))]\n",
    "\n",
    "trial_info = loadmat(op.join(data_dir, subj, f'{subj}_trial_info.mat'))\n",
    "trial_names = trial_info['names'][0]\n",
    "trial_onsets = trial_info['onsets'][0]\n",
    "trial_onsets = [list(np.squeeze(trial_onsets[i])) for i in range(len(trial_onsets))]\n",
    "trial_durations = trial_info['durations'][0]\n",
    "trial_durations = [list(np.squeeze(trial_durations[i])) for i in range(len(trial_durations))]\n",
    "trial_names = [list(trial_names[i])*len(trial_onsets[i]) for i in range(len(trial_names))]"
   ]
  },
  {
   "cell_type": "code",
   "execution_count": 16,
   "id": "5bdbedef",
   "metadata": {},
   "outputs": [],
   "source": [
    "df0 = pd.DataFrame({'trial_type':list(block_names[0]), \n",
    "                    'onset':list(block_onsets[0]), \n",
    "                    'duration':list(block_durations[0])})\n",
    "df1 = pd.DataFrame({'trial_type':list(block_names[1]), \n",
    "                    'onset':list(block_onsets[1]), \n",
    "                    'duration':list(block_durations[1])})\n",
    "df2 = pd.DataFrame({'trial_type':list(block_names[2]), \n",
    "                    'onset':list(block_onsets[2]), \n",
    "                    'duration':list(block_durations[2])})\n",
    "df3 = pd.DataFrame({'trial_type':list(trial_names[0]), \n",
    "                    'onset':list(trial_onsets[0]), \n",
    "                    'duration':list(trial_durations[0])})\n",
    "df4 = pd.DataFrame({'trial_type':list(trial_names[1]), \n",
    "                    'onset':list(trial_onsets[1]), \n",
    "                    'duration':list(trial_durations[1])})\n",
    "df5 = pd.DataFrame({'trial_type':list(trial_names[2]), \n",
    "                    'onset':list(trial_onsets[2]), \n",
    "                    'duration':list(trial_durations[2])})\n",
    "\n",
    "df = pd.concat((df0, df1, df2, df3, df4, df5), ignore_index=True)\n",
    "\n",
    "df_final = df.sort_values(['onset', 'duration'], \n",
    "               ascending=[True, False]).reset_index()[['trial_type', 'onset', 'duration']]\n",
    "for i in range(len(df_final)):\n",
    "    if df_final.loc[i, 'trial_type'] == 'control':\n",
    "        df_final.loc[i, 'trial_type'] = 'b_control'\n",
    "    elif df_final.loc[i, 'trial_type'] == 'main':\n",
    "        df_final.loc[i, 'trial_type'] = 'b_main'\n",
    "    elif df_final.loc[i, 'trial_type'] == 'silence':\n",
    "        df_final.loc[i, 'trial_type'] = 'b_silence'\n",
    "    elif df_final.loc[i, 'trial_type'] == 'std':\n",
    "        df_final.loc[i, 'trial_type'] = 't_std'\n",
    "    elif df_final.loc[i, 'trial_type'] == 'dev_cont':\n",
    "        df_final.loc[i, 'trial_type'] = 't_dev_cont'\n",
    "    elif df_final.loc[i, 'trial_type'] == 'dev_main':\n",
    "        df_final.loc[i, 'trial_type'] = 't_dev_main'\n",
    "\n",
    "df_final.to_csv(op.join(data_dir, subj, f'{subj}_events.csv'))"
   ]
  },
  {
   "cell_type": "code",
   "execution_count": null,
   "id": "f5a49523",
   "metadata": {},
   "outputs": [],
   "source": []
  },
  {
   "cell_type": "code",
   "execution_count": null,
   "id": "93f5c1d7",
   "metadata": {},
   "outputs": [],
   "source": []
  }
 ],
 "metadata": {
  "kernelspec": {
   "display_name": "Python 3",
   "language": "python",
   "name": "python3"
  },
  "language_info": {
   "codemirror_mode": {
    "name": "ipython",
    "version": 3
   },
   "file_extension": ".py",
   "mimetype": "text/x-python",
   "name": "python",
   "nbconvert_exporter": "python",
   "pygments_lexer": "ipython3",
   "version": "3.8.5"
  }
 },
 "nbformat": 4,
 "nbformat_minor": 5
}
